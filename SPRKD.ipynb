{
 "cells": [
  {
   "cell_type": "markdown",
   "metadata": {},
   "source": [
    "### **SPRKD (SADDLE POINT RECRUITMENT FOR KNOWLEDGE DISTILLATION): HIGHER-ORDER EXPERIMENTATION AND ANALYSIS.**"
   ]
  },
  {
   "cell_type": "code",
   "execution_count": null,
   "metadata": {},
   "outputs": [],
   "source": [
    "#Install necesssary libraries\n",
    "#Hessian eigenthings and PyHessian\n",
    "!pip install --upgrade \"git+https://github.com/thetechdude124/pytorch-hessian-eigenthings.git@master#egg=hessian-eigenthings\"\n",
    "#Install PyHessian library (personal fork with version-specific updates)\n",
    "!pip install --upgrade \"git+https://github.com/thetechdude124/pyhessian.git@master#egg=pyhessian\"\n",
    "#PIL for image processing\n",
    "!pip install pillow-simd\n",
    "#Change numpy to version 1.24.0 (needed for TLI saddle injection)\n",
    "!pip uninstall numpy\n",
    "!pip install numpy==1.24.0\n",
    "#For storage and other dependencies\n",
    "!pip install h5py"
   ]
  },
  {
   "cell_type": "code",
   "execution_count": null,
   "metadata": {},
   "outputs": [],
   "source": [
    "#Import libraries\n",
    "from pyhessian import hessian\n",
    "import numpy as np\n",
    "from hessian_eigenthings import compute_hessian_eigenthings\n",
    "import torch as t\n",
    "import torch.nn as nn\n",
    "import torch.nn.functional as F\n",
    "from torchvision import datasets, transforms\n",
    "\n",
    "import fastai\n",
    "from fastai.vision.all import *\n",
    "from sklearn.model_selection import train_test_split\n",
    "import matplotlib.pyplot as plt\n",
    "%matplotlib inline\n",
    "#Set GPU device\n",
    "torch.cuda.set_device(0)\n",
    "torch.cuda.get_device_name()"
   ]
  }
 ],
 "metadata": {
  "language_info": {
   "name": "python"
  },
  "orig_nbformat": 4
 },
 "nbformat": 4,
 "nbformat_minor": 2
}
